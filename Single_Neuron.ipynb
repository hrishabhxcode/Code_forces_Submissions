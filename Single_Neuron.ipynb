{
  "nbformat": 4,
  "nbformat_minor": 0,
  "metadata": {
    "colab": {
      "provenance": [],
      "authorship_tag": "ABX9TyNTdub7fIJEFZc5YSqAemfO",
      "include_colab_link": true
    },
    "kernelspec": {
      "name": "python3",
      "display_name": "Python 3"
    },
    "language_info": {
      "name": "python"
    }
  },
  "cells": [
    {
      "cell_type": "markdown",
      "metadata": {
        "id": "view-in-github",
        "colab_type": "text"
      },
      "source": [
        "<a href=\"https://colab.research.google.com/github/hrishabhxcode/Code_forces_Submissions/blob/main/Single_Neuron.ipynb\" target=\"_parent\"><img src=\"https://colab.research.google.com/assets/colab-badge.svg\" alt=\"Open In Colab\"/></a>"
      ]
    },
    {
      "cell_type": "markdown",
      "source": [
        "# **Coding Neural Network from Scratch **\n",
        "\n",
        "\n",
        "*   Create a Visio Flow of The Neuron\n",
        "*   Assign the Corresponding Input Parameters on the Neuron\n",
        "*   Assign the Weight for Corresponding Network\n",
        "*   Add the Bias on the Nucleus\n",
        "*   Add the dot product of Weight and Input and Bias\n",
        "\n",
        "\n",
        "\n",
        "\n"
      ],
      "metadata": {
        "id": "3nhxK8YtJmL1"
      }
    },
    {
      "cell_type": "code",
      "source": [
        "import numpy as np\n",
        "import pandas as pd\n",
        "import matplotlib.pyplot as plt\n",
        "\n",
        "\n"
      ],
      "metadata": {
        "id": "82gIOMe4KXbw"
      },
      "execution_count": null,
      "outputs": []
    },
    {
      "cell_type": "code",
      "source": [
        "import numpy as np\n",
        "\n",
        "print(\"Enter the Number of Input Data\")\n",
        "input_data = int(float(input()))\n",
        "\n",
        "print(\"Enter the Magnitude of Input Bias for Current Model\")\n",
        "input_bias = float(input())\n",
        "\n",
        "lst_input = []\n",
        "lst_weight = []\n",
        "\n",
        "for f in range(input_data):\n",
        "    lst_input.append(float(input(f\"Enter the Input for {f} Network -> \")))\n",
        "    lst_weight.append(float(input(f\"Enter the Weight for {f} Network -> \")))\n",
        "\n",
        "print(\"The Input Data for the Neural Network is: \")\n",
        "print(lst_input)\n",
        "\n",
        "print(\"The Corresponding Weight associated with each Input for the Neural Network is: \")\n",
        "print(lst_weight)\n",
        "\n",
        "output_layer = np.dot(lst_input, lst_weight) + input_bias\n",
        "\n",
        "print(\"The Output of the Neural Network is: \")\n",
        "print(output_layer)\n"
      ],
      "metadata": {
        "colab": {
          "base_uri": "https://localhost:8080/"
        },
        "id": "uhgK8hENKlWx",
        "outputId": "d3e2bd1d-8d79-483f-90b9-444d6b94a621"
      },
      "execution_count": null,
      "outputs": [
        {
          "output_type": "stream",
          "name": "stdout",
          "text": [
            "Enter the Number of Input Data\n",
            "3\n",
            "Enter the Magnitude of Input Bias for Current Model\n",
            "2\n",
            "Enter the Input for 0 Network -> 1\n",
            "Enter the Weight for 0 Network -> 0.2\n",
            "Enter the Input for 1 Network -> 2\n",
            "Enter the Weight for 1 Network -> 0.8\n",
            "Enter the Input for 2 Network -> 3\n",
            "Enter the Weight for 2 Network -> -0.5\n",
            "The Input Data for the Neural Network is: \n",
            "[1.0, 2.0, 3.0]\n",
            "The Corresponding Weight associated with each Input for the Neural Network is: \n",
            "[0.2, 0.8, -0.5]\n",
            "The Output of the Neural Network is: \n",
            "2.3\n"
          ]
        }
      ]
    },
    {
      "cell_type": "markdown",
      "source": [
        "# **For Layer of Neuron**\n",
        "\n",
        "\n",
        "*   Take the Input Parameters\n",
        "*   Assign the weight for each neuron\n",
        "*   Assign the bias to each Nucleus\n",
        "*   Calculate the dot product for each neuron Model with appropriate bias\n",
        "\n",
        "\n",
        "\n",
        "\n",
        "\n"
      ],
      "metadata": {
        "id": "e96nMYfZREDd"
      }
    },
    {
      "cell_type": "code",
      "source": [
        "input_fun = [1,2,3,4,5]\n",
        "weight1 = [0.5 , -0.3 , 1, -0.5 , 0.2]\n",
        "weight2 = [0.7 ,  0.8 , 3.4 , 2.2 , -1.7]\n",
        "weight3 = [1.1 , 4.2 , -0.3 , 0.6 , 2.8]\n",
        "\n",
        "bias1 = 7\n",
        "bias2 = 2\n",
        "bias3 = 8\n",
        "\n",
        "output_layer =[ input_fun[0]*weight1[0] + input_fun[1]*weight1[1] + input_fun[2]*weight1[2] + input_fun[3]*weight1[3] + input_fun[4]*weight1[4] + bias1,\n",
        "input_fun[0]*weight2[0] + input_fun[1]*weight2[1] + input_fun[2]*weight2[2] + input_fun[3]*weight2[3] + input_fun[4]*weight2[4] + bias2 ,\n",
        "input_fun[0]*weight3[0] + input_fun[1]*weight3[1] + input_fun[2]*weight3[2] + input_fun[3]*weight3[3] + input_fun[4]*weight3[4] + bias3 ]\n",
        "\n",
        "\n",
        "\n",
        "\n",
        "print(output_layer)\n",
        "\n"
      ],
      "metadata": {
        "colab": {
          "base_uri": "https://localhost:8080/"
        },
        "id": "A28Ka4C0TITs",
        "outputId": "d37f0653-088d-4b55-aa77-a43003418ff8"
      },
      "execution_count": null,
      "outputs": [
        {
          "output_type": "stream",
          "name": "stdout",
          "text": [
            "[8.9, 14.8, 33.0]\n"
          ]
        }
      ]
    },
    {
      "cell_type": "code",
      "source": [
        "import numpy as np\n",
        "\n",
        "input_param = []\n",
        "weight_param = []\n",
        "bias_param = []\n",
        "\n",
        "print(\"Enter the Number of Input Data\")\n",
        "input_data1 = int(input())\n",
        "\n",
        "print(\"Enter the Number of Neurons\")\n",
        "neuron_num = int(input())\n",
        "\n",
        "\n",
        "for f in range(input_data1):\n",
        "    input_param.append(float(input(f\"Enter the Input for {f} Network -> \")))\n",
        "\n",
        "\n",
        "all_weights = []\n",
        "\n",
        "for n in range(neuron_num):\n",
        "    temp_weights = []\n",
        "    print(f\"\\nEntering weights for Neuron {n+1}:\")\n",
        "\n",
        "    for f in range(input_data1):\n",
        "        temp_weights.append(float(input(f\"Enter the Weight for input {f} -> \")))\n",
        "\n",
        "    all_weights.append(temp_weights)\n",
        "\n",
        "\n",
        "for n in range(neuron_num):\n",
        "    bias_param.append(float(input(f\"Enter the Bias for Neuron {n+1} -> \")))\n",
        "\n",
        "print(\"\\nInputs :\", input_param)\n",
        "print(\"All Weights :\", all_weights)\n",
        "print(\"All Bias are : \" , bias_param)\n",
        "\n",
        "output_layer = []\n",
        "\n",
        "for n in range(neuron_num):\n",
        "    output_layer.append(np.dot(input_param, all_weights[n]) + bias_param)\n",
        "\n",
        "\n",
        "\n",
        "\n",
        "print(\"The Output of the Neural Network is: \")\n",
        "print(output_layer)\n",
        "\n",
        "\n",
        "print(\"The Final Output is -> \")\n",
        "\n",
        "final_answer = np.sum(output_layer)\n",
        "print(final_answer)\n",
        "\n",
        "\n"
      ],
      "metadata": {
        "colab": {
          "base_uri": "https://localhost:8080/",
          "height": 0
        },
        "id": "wdMmr00FasOn",
        "outputId": "08b27cfb-b058-47ba-9879-72d7561b1a99"
      },
      "execution_count": 1,
      "outputs": [
        {
          "output_type": "stream",
          "name": "stdout",
          "text": [
            "Enter the Number of Input Data\n",
            "4\n",
            "Enter the Number of Neurons\n",
            "3\n",
            "Enter the Input for 0 Network -> 1.2\n",
            "Enter the Input for 1 Network -> 3.2\n",
            "Enter the Input for 2 Network -> 4\n",
            "Enter the Input for 3 Network -> 5\n",
            "\n",
            "Entering weights for Neuron 1:\n",
            "Enter the Weight for input 0 -> 4.5\n",
            "Enter the Weight for input 1 -> -1.3\n",
            "Enter the Weight for input 2 -> -4.5\n",
            "Enter the Weight for input 3 -> 4.3\n",
            "\n",
            "Entering weights for Neuron 2:\n",
            "Enter the Weight for input 0 -> 3.6\n",
            "Enter the Weight for input 1 -> 3.2\n",
            "Enter the Weight for input 2 -> 7.8\n",
            "Enter the Weight for input 3 -> -1.5\n",
            "\n",
            "Entering weights for Neuron 3:\n",
            "Enter the Weight for input 0 -> 4.5\n",
            "Enter the Weight for input 1 -> 6.7\n",
            "Enter the Weight for input 2 -> 2.6\n",
            "Enter the Weight for input 3 -> -6.3\n",
            "Enter the Bias for Neuron 1 -> 3.5\n",
            "Enter the Bias for Neuron 2 -> 1.7\n",
            "Enter the Bias for Neuron 3 -> -1.7\n",
            "\n",
            "Inputs : [1.2, 3.2, 4.0, 5.0]\n",
            "All Weights : [[4.5, -1.3, -4.5, 4.3], [3.6, 3.2, 7.8, -1.5], [4.5, 6.7, 2.6, -6.3]]\n",
            "All Bias are :  [3.5, 1.7, -1.7]\n",
            "The Output of the Neural Network is: \n",
            "[array([8.24, 6.44, 3.04]), array([41.76, 39.96, 36.56]), array([9.24, 7.44, 4.04])]\n",
            "The Final Output is -> \n",
            "156.72\n"
          ]
        }
      ]
    },
    {
      "cell_type": "code",
      "source": [
        "import numpy as np\n",
        "\n",
        "x = int(input())\n",
        "def sigmoid(x):\n",
        "  return 1/(1+np.exp(-x))\n",
        "\n",
        "print(sigmoid(x))\n"
      ],
      "metadata": {
        "colab": {
          "base_uri": "https://localhost:8080/",
          "height": 0
        },
        "id": "p10iHcG-gNwX",
        "outputId": "e63725c9-1ea0-4ea7-ae53-9d2c0c23f92d"
      },
      "execution_count": 4,
      "outputs": [
        {
          "output_type": "stream",
          "name": "stdout",
          "text": [
            "1\n",
            "0.7310585786300049\n"
          ]
        }
      ]
    },
    {
      "cell_type": "markdown",
      "source": [
        "# **A Layer of Neuron and Batch of Data of  Non Sparse Matrix**"
      ],
      "metadata": {
        "id": "b_vEK_v9g9yp"
      }
    },
    {
      "cell_type": "code",
      "source": [
        "input = [[1,6,5],[5.6,7.2,9.2],[7.6,3,2]]\n",
        "weight = [[6,7,4],[6,3.3,6],[7.8 , 5, 4]]\n",
        "corr_bias = [3.3 , 5 , 7]\n",
        "\n",
        "x = np.array(input)\n",
        "y = np.array(weight)\n",
        "\n",
        "\n",
        "print(x)\n",
        "print(\"\")\n",
        "print(y)"
      ],
      "metadata": {
        "colab": {
          "base_uri": "https://localhost:8080/",
          "height": 0
        },
        "id": "m0kkl156hEyD",
        "outputId": "e350f178-7e1c-473e-9c8f-84d21c9570ee"
      },
      "execution_count": 11,
      "outputs": [
        {
          "output_type": "stream",
          "name": "stdout",
          "text": [
            "[[1.  6.  5. ]\n",
            " [5.6 7.2 9.2]\n",
            " [7.6 3.  2. ]]\n",
            "\n",
            "[[6.  7.  4. ]\n",
            " [6.  3.3 6. ]\n",
            " [7.8 5.  4. ]]\n"
          ]
        }
      ]
    },
    {
      "cell_type": "code",
      "source": [
        "multi_ans = []\n",
        "\n",
        "for n in range(neuron_num):\n",
        "    multi_ans.append(np.dot(input, np.array(weight[n]).T) + corr_bias)\n",
        "\n",
        "\n",
        "print(multi_ans)\n"
      ],
      "metadata": {
        "colab": {
          "base_uri": "https://localhost:8080/",
          "height": 0
        },
        "id": "BL8EDL09knQi",
        "outputId": "d3e8f51a-9202-4ad8-f3d7-e983a923de99"
      },
      "execution_count": 17,
      "outputs": [
        {
          "output_type": "stream",
          "name": "stdout",
          "text": [
            "[array([ 71.3, 125.8,  81.6]), array([ 59.1 , 117.56,  74.5 ]), array([ 61.1 , 121.48,  89.28])]\n"
          ]
        }
      ]
    },
    {
      "cell_type": "code",
      "source": [
        "array_sum = np.sum(multi_ans)\n",
        "print(array_sum)\n"
      ],
      "metadata": {
        "colab": {
          "base_uri": "https://localhost:8080/",
          "height": 0
        },
        "id": "q1W0Xm0mns-G",
        "outputId": "2e9b08ac-1ada-4227-a0ca-f8524db4bf05"
      },
      "execution_count": 19,
      "outputs": [
        {
          "output_type": "stream",
          "name": "stdout",
          "text": [
            "801.7199999999999\n"
          ]
        }
      ]
    },
    {
      "cell_type": "markdown",
      "source": [
        "# **MATHEMATICS [PYTHON]**"
      ],
      "metadata": {
        "id": "XwRU8dqzrtOd"
      }
    },
    {
      "cell_type": "code",
      "source": [
        "import numpy as np\n",
        "import pandas as pd\n",
        "import matplotlib.pyplot as plt\n",
        "%matplotlib inline\n",
        "\n",
        "import warnings\n",
        "warnings.filterwarnings('ignore')"
      ],
      "metadata": {
        "id": "azq1W5CQr1ur"
      },
      "execution_count": 2,
      "outputs": []
    },
    {
      "cell_type": "markdown",
      "source": [
        "# **Computing Cosine Angle between two Vectors**"
      ],
      "metadata": {
        "id": "Z4q5gazPr8zn"
      }
    },
    {
      "cell_type": "code",
      "source": [
        "u = np.array([1,2,3])\n",
        "v = np.array([7,3,6])\n",
        "\n",
        "\n",
        "def magn(u):\n",
        "  final_value = 0\n",
        "  for i in range(len(u)):\n",
        "    final_value+=u[i]*u[i]\n",
        "  return np.sqrt(final_value)\n",
        "\n",
        "\n",
        "print(magn(u))\n",
        "print(magn(v))\n",
        "\n",
        "\n",
        "def dot_product(u,v):\n",
        "\n",
        "  sum = 0\n",
        "\n",
        "  for i in range(len(u)):\n",
        "    sum+=u[i]*v[i]\n",
        "  return sum\n",
        "\n",
        "\n",
        "def cosine_theta(u,v):\n",
        "\n",
        "  vec_pro = dot_product(u,v)\n",
        "  cos_theta = vec_pro/(magn(u)*magn(v))\n",
        "\n",
        "  return cos_theta\n",
        "\n",
        "print(cosine_theta(u,v))\n",
        "\n",
        "\n",
        "\n"
      ],
      "metadata": {
        "colab": {
          "base_uri": "https://localhost:8080/",
          "height": 0
        },
        "id": "dSzAVkpOr98z",
        "outputId": "3f8be7fa-1a8f-4e38-bb36-ff3c2999a687"
      },
      "execution_count": 3,
      "outputs": [
        {
          "output_type": "stream",
          "name": "stdout",
          "text": [
            "3.7416573867739413\n",
            "9.695359714832659\n",
            "0.8545426619509555\n"
          ]
        }
      ]
    },
    {
      "cell_type": "markdown",
      "source": [
        "### **Computing Sine for the Angle between two tensors **"
      ],
      "metadata": {
        "id": "3nJKS_3LsBEL"
      }
    },
    {
      "cell_type": "code",
      "source": [
        "sin_theta = np.sqrt(1-cosine_theta(u,v)**2)\n",
        "print(sin_theta)"
      ],
      "metadata": {
        "colab": {
          "base_uri": "https://localhost:8080/",
          "height": 0
        },
        "id": "JuRNrK0fsQRD",
        "outputId": "3859358a-803a-4a32-e32b-d59c25d89966"
      },
      "execution_count": 4,
      "outputs": [
        {
          "output_type": "stream",
          "name": "stdout",
          "text": [
            "0.5193812076940933\n"
          ]
        }
      ]
    },
    {
      "cell_type": "markdown",
      "source": [
        "# FINAL\n",
        "\n",
        "* This is coded by Hrishabh\n",
        "* You can visit the repository and do pull request to add your code\n",
        "* You can visit www.github.com/hrishabhxcode/\n",
        "\n",
        "\n",
        "MIT License\n",
        "\n",
        "Copyright (c) 2025 Hrishabhxcode\n",
        "\n",
        "Permission is hereby granted, free of charge, to any person obtaining a copy\n",
        "of this Code and associated documentation files , to deal\n",
        "in the Code without restriction, including without limitation the rights\n",
        "to use, copy, modify, merge, publish, distribute, sublicense, and/or sell\n",
        "copies of the Software, and to permit persons to whom the Software is\n",
        "furnished to do so, subject to the following conditions:\n",
        "\n",
        "The above copyright notice and this permission notice shall be included in all\n",
        "copies or substantial portions of the Software.\n",
        "\n",
        "THE CODE IS PROVIDED \"AS IS\", WITHOUT WARRANTY OF ANY KIND, EXPRESS OR\n",
        "IMPLIED, INCLUDING BUT NOT LIMITED TO THE WARRANTIES OF MERCHANTABILITY,\n",
        "FITNESS FOR A PARTICULAR PURPOSE AND NONINFRINGEMENT. IN NO EVENT SHALL THE\n",
        "AUTHORS OR COPYRIGHT HOLDERS BE LIABLE FOR ANY CLAIM, DAMAGES OR OTHER\n",
        "LIABILITY, WHETHER IN AN ACTION OF CONTRACT, TORT OR OTHERWISE, ARISING FROM,\n",
        "OUT OF OR IN CONNECTION WITH THE SOFTWARE OR THE USE OR OTHER DEALINGS IN THE\n",
        "SOFTWARE."
      ],
      "metadata": {
        "id": "cTmvBRjPqtpV"
      }
    }
  ]
}